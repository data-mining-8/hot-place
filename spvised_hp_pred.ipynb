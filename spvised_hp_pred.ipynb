{
 "cells": [
  {
   "cell_type": "code",
   "execution_count": 6,
   "metadata": {},
   "outputs": [],
   "source": [
    "import pandas as pd\n",
    "import numpy as np\n",
    "import matplotlib.pyplot as plt\n",
    "\n",
    "from sklearn.preprocessing import StandardScaler\n",
    "from sklearn.decomposition import PCA\n",
    "from sklearn.cluster import KMeans\n",
    "from sklearn.metrics import silhouette_score, calinski_harabasz_score, davies_bouldin_score\n",
    "\n",
    "import warnings\n",
    "warnings.filterwarnings('ignore')\n"
   ]
  },
  {
   "cell_type": "code",
   "execution_count": 7,
   "metadata": {},
   "outputs": [],
   "source": [
    "# 데이터 로드\n",
    "\n",
    "FP_PATH    = \"floating_population.csv\"   # 유동인구\n",
    "SALES_PATH = \"sales.csv\"                 # 매출\n",
    "STORE_PATH = \"store.csv\"                 # 점포\n"
   ]
  },
  {
   "cell_type": "code",
   "execution_count": 8,
   "metadata": {},
   "outputs": [
    {
     "name": "stdout",
     "output_type": "stream",
     "text": [
      "(10200, 25) (67900, 53) (141001, 12)\n"
     ]
    }
   ],
   "source": [
    "def read_korean_csv(path: str) -> pd.DataFrame:\n",
    "    \"\"\"Try common Korean encodings.\"\"\"\n",
    "    for enc in (\"utf-8\", \"cp949\", \"euc-kr\"):\n",
    "        try:\n",
    "            return pd.read_csv(path, encoding=enc)\n",
    "        except UnicodeDecodeError:\n",
    "            continue\n",
    "    return pd.read_csv(path)\n",
    "\n",
    "fp    = read_korean_csv(FP_PATH)\n",
    "sales = read_korean_csv(SALES_PATH)\n",
    "store = read_korean_csv(STORE_PATH)\n",
    "\n",
    "print(fp.shape, sales.shape, store.shape)\n"
   ]
  },
  {
   "cell_type": "code",
   "execution_count": 10,
   "metadata": {},
   "outputs": [
    {
     "data": {
      "text/plain": [
       "array([20241, 20242, 20243, 20244, 20214, 20191, 20192, 20193, 20194,\n",
       "       20201, 20202, 20203, 20204, 20211, 20213, 20221, 20223, 20224,\n",
       "       20231, 20233, 20234, 20212, 20222, 20232])"
      ]
     },
     "execution_count": 10,
     "metadata": {},
     "output_type": "execute_result"
    }
   ],
   "source": [
    "fp[\"기준_년분기_코드\"].unique()"
   ]
  }
 ],
 "metadata": {
  "kernelspec": {
   "display_name": "Python 3",
   "language": "python",
   "name": "python3"
  },
  "language_info": {
   "codemirror_mode": {
    "name": "ipython",
    "version": 3
   },
   "file_extension": ".py",
   "mimetype": "text/x-python",
   "name": "python",
   "nbconvert_exporter": "python",
   "pygments_lexer": "ipython3",
   "version": "3.13.3"
  }
 },
 "nbformat": 4,
 "nbformat_minor": 2
}
