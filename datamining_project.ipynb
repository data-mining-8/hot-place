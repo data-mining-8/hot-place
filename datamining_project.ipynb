{
 "cells": [
  {
   "cell_type": "markdown",
   "id": "412d4cc3",
   "metadata": {},
   "source": [
    "## 데이터마이닝 프로젝트"
   ]
  },
  {
   "cell_type": "code",
   "execution_count": 100,
   "id": "72884e09",
   "metadata": {},
   "outputs": [],
   "source": [
    "import pandas as pd\n",
    "import numpy as np\n",
    "import matplotlib.pyplot as plt\n",
    "\n",
    "from sklearn.preprocessing import StandardScaler\n",
    "from sklearn.decomposition import PCA\n",
    "from sklearn.cluster import KMeans\n",
    "from sklearn.metrics import silhouette_score, calinski_harabasz_score, davies_bouldin_score\n",
    "\n",
    "import warnings\n",
    "warnings.filterwarnings('ignore')\n"
   ]
  },
  {
   "cell_type": "code",
   "execution_count": 101,
   "id": "f981dc48",
   "metadata": {},
   "outputs": [],
   "source": [
    "# 데이터 로드\n",
    "\n",
    "FP_PATH    = \"floating_population.csv\"   # 유동인구\n",
    "SALES_PATH = \"sales.csv\"                 # 매출\n",
    "STORE_PATH = \"store.csv\"                 # 점포\n"
   ]
  },
  {
   "cell_type": "code",
   "execution_count": null,
   "id": "ea113d4d",
   "metadata": {},
   "outputs": [],
   "source": [
    "def read_korean_csv(path: str) -> pd.DataFrame:\n",
    "    \"\"\"Try common Korean encodings.\"\"\"\n",
    "    for enc in (\"utf-8\", \"cp949\", \"euc-kr\"):\n",
    "        try:\n",
    "            return pd.read_csv(path, encoding=enc)\n",
    "        except UnicodeDecodeError:\n",
    "            continue\n",
    "    return pd.read_csv(path)\n",
    "\n",
    "fp    = read_korean_csv(FP_PATH)\n",
    "fp = fp[fp[\"기준_년분기_코드\"] // 10 == 2024]\n",
    "sales = read_korean_csv(SALES_PATH)\n",
    "store = read_korean_csv(STORE_PATH)\n",
    "\n",
    "print(fp.shape, sales.shape, store.shape)\n"
   ]
  },
  {
   "cell_type": "code",
   "execution_count": null,
   "id": "69610b5d",
   "metadata": {},
   "outputs": [],
   "source": [
    "f = lambda x: display(x[\"기준_년분기_코드\"].unique())\n",
    "f(fp)\n",
    "f(sales)\n",
    "f(store)"
   ]
  },
  {
   "cell_type": "code",
   "execution_count": null,
   "id": "7f676c2a",
   "metadata": {},
   "outputs": [],
   "source": [
    "def get_columns(df):\n",
    "    display(df.columns)\n",
    "get_columns(fp)\n",
    "get_columns(sales)\n",
    "get_columns(store)"
   ]
  },
  {
   "cell_type": "code",
   "execution_count": null,
   "id": "6da4f4ae",
   "metadata": {},
   "outputs": [],
   "source": [
    "#데이터 전처리\n",
    "def make_numeric(df, drop_cols):\n",
    "    return [c for c in df.columns if c not in drop_cols and df[c].dtype != 'object']\n",
    "\n",
    "sales_num = make_numeric(sales, [\"행정동_코드\", \"기준_년분기_코드\"])\n",
    "store_num = make_numeric(store, [\"행정동_코드\", \"기준_년분기_코드\"])\n",
    "\n",
    "sales_agg = (sales\n",
    "             .groupby([\"기준_년분기_코드\", \"행정동_코드\"])[sales_num]\n",
    "             .sum()\n",
    "             .reset_index())\n",
    "\n",
    "store_agg = (store\n",
    "             .groupby([\"기준_년분기_코드\", \"행정동_코드\"])[store_num]\n",
    "             .median() # 0 값이 많아 median과 차이가 있는데 어떤 걸로 할지?\n",
    "             .reset_index())\n",
    "\n",
    "# merged 건들면 안됨!\n",
    "merged = (fp\n",
    "          .merge(sales_agg, on=[\"기준_년분기_코드\", \"행정동_코드\"], how=\"left\")\n",
    "          .merge(store_agg, on=[\"기준_년분기_코드\", \"행정동_코드\"], how=\"left\"))\n",
    "merged = merged.dropna(axis=0)\n",
    "print(\"Merged:\", merged.shape)\n"
   ]
  },
  {
   "cell_type": "code",
   "execution_count": null,
   "id": "3d91f0eb",
   "metadata": {},
   "outputs": [],
   "source": [
    "merged.isna().sum().sum()"
   ]
  },
  {
   "cell_type": "code",
   "execution_count": null,
   "id": "95edf9c8",
   "metadata": {},
   "outputs": [],
   "source": [
    "# 표준화 후 PCA 분석\n",
    "feature_cols = [c for c in merged.columns\n",
    "                if c not in (\"행정동_코드\", \"기준_년분기_코드\") and merged[c].dtype != 'object']\n",
    "\n",
    "scaler = StandardScaler()\n",
    "X_scaled = scaler.fit_transform(merged[feature_cols])\n",
    "\n",
    "pca = PCA(n_components=0.95, random_state=42, svd_solver='full')\n",
    "X_pca = pca.fit_transform(X_scaled)\n",
    "\n",
    "print(f\"PCA → {X_pca.shape[1]} components (cum var {pca.explained_variance_ratio_.sum():.2%})\")\n"
   ]
  },
  {
   "cell_type": "code",
   "execution_count": null,
   "id": "28ad7bec",
   "metadata": {},
   "outputs": [],
   "source": [
    "print(f\"PCA → {X_pca.shape[1]} components (each var \\n{pca.explained_variance_ratio_})\")"
   ]
  },
  {
   "cell_type": "markdown",
   "id": "4627c6ac",
   "metadata": {},
   "source": [
    "-> 8개 주성분으로 원본 데이터의 분산 95.05% 설명 가능"
   ]
  },
  {
   "cell_type": "code",
   "execution_count": 109,
   "id": "f8d7b860",
   "metadata": {},
   "outputs": [],
   "source": [
    "loadings = pd.DataFrame(\n",
    "    pca.components_.T,                         # (변수 개수 × 주성분 개수) 행렬\n",
    "    index=feature_cols,                        # 행 = 원본 변수 이름\n",
    "    columns=[f\"PC{i+1}\" for i in range(pca.n_components_)]\n",
    ")"
   ]
  },
  {
   "cell_type": "code",
   "execution_count": null,
   "id": "b2a555c2",
   "metadata": {},
   "outputs": [],
   "source": [
    "len(merged.columns)"
   ]
  },
  {
   "cell_type": "code",
   "execution_count": null,
   "id": "6c852951",
   "metadata": {},
   "outputs": [],
   "source": [
    "for pc in loadings.columns:          # 'PC1' … 'PC7'\n",
    "    top = (loadings[pc]\n",
    "           .sort_values(ascending=False, key=abs)\n",
    "           .head(30))                # 상위 8개 변수\n",
    "    print(f\"\\n{pc} 상위 기여 변수:\")\n",
    "    print(top)"
   ]
  },
  {
   "cell_type": "code",
   "execution_count": null,
   "id": "1d3a88e0",
   "metadata": {},
   "outputs": [],
   "source": [
    "# kmeans Clustering 사용하기 위해 k 설정하는 과정(지표 비교)\n",
    "\n",
    "def eval_k(X, k):\n",
    "    km = KMeans(n_clusters=k, random_state=42, n_init=10).fit(X)\n",
    "    labels = km.labels_\n",
    "    return {\n",
    "        \"k\": k,\n",
    "        \"inertia\": km.inertia_,\n",
    "        \"silhouette\": silhouette_score(X, labels, sample_size=min(5000, len(X)), random_state=42),\n",
    "        \"calinski\": calinski_harabasz_score(X, labels),\n",
    "        \"davies\": davies_bouldin_score(X, labels)\n",
    "    }\n",
    "\n",
    "scores = pd.DataFrame([eval_k(X_pca, k) for k in range(2, 11)])\n",
    "display(scores.set_index(\"k\").round(2))\n",
    "\n",
    "best_k = scores.loc[scores['silhouette'].idxmax(), 'k']\n",
    "print(\"Best k (silhouette):\", best_k)\n"
   ]
  },
  {
   "cell_type": "code",
   "execution_count": null,
   "id": "ab4530be",
   "metadata": {},
   "outputs": [],
   "source": [
    "from sklearn.cluster import KMeans\n",
    "import matplotlib.pyplot as plt\n",
    "\n",
    "ks, inertias = [], []\n",
    "for k in range(2, 11):\n",
    "    km = KMeans(n_clusters=k, random_state=42, n_init=10).fit(X_pca)\n",
    "    ks.append(k)\n",
    "    inertias.append(km.inertia_)\n",
    "\n",
    "plt.plot(ks, inertias, 'o-')\n",
    "plt.title(\"Elbow Method\")\n",
    "plt.xlabel(\"k\"); plt.ylabel(\"Inertia\")\n",
    "plt.show()"
   ]
  },
  {
   "cell_type": "code",
   "execution_count": 114,
   "id": "87b2541a",
   "metadata": {},
   "outputs": [],
   "source": [
    "### silhouette score는 k=2에서 제일 높았지만, 2개의 클러스터는 적다고 느껴지기도 하고 엘보우 메소드를 참고해서 k=4로 해봤습니다!"
   ]
  },
  {
   "cell_type": "code",
   "execution_count": null,
   "id": "6ac69930",
   "metadata": {},
   "outputs": [],
   "source": [
    "# kmeans 클러스터링 적용\n",
    "kmeans = KMeans(n_clusters=4, random_state=42, n_init=10)\n",
    "merged['cluster'] = kmeans.fit_predict(X_pca)\n",
    "merged['cluster'].value_counts().sort_index()\n"
   ]
  },
  {
   "cell_type": "code",
   "execution_count": null,
   "id": "bdc4c105",
   "metadata": {},
   "outputs": [],
   "source": [
    "# 시각화\n",
    "plt.figure(figsize=(5,4))\n",
    "plt.scatter(X_pca[:,0], X_pca[:,1], c=merged['cluster'], s=8, cmap='tab10')\n",
    "plt.title('Clusters on PC1 vs PC2')\n",
    "plt.show()  #PCA 1·2 축 산점도\n",
    "\n",
    "plt.figure(figsize=(4,3))\n",
    "merged['cluster'].value_counts().sort_index().plot(kind='bar')\n",
    "plt.title('Cluster sizes')\n",
    "plt.show() #cluster 별 크기\n",
    "\n",
    "pc_df = pd.DataFrame(X_pca, columns=[f\"PC{i+1}\" for i in range(X_pca.shape[1])])\n",
    "pc_df[\"cluster\"] = merged[\"cluster\"]\n",
    "mean_matrix = pc_df.groupby(\"cluster\").mean()\n",
    "\n",
    "plt.figure(figsize=(6,3))\n",
    "plt.imshow(mean_matrix, aspect=\"auto\"); plt.colorbar()\n",
    "plt.yticks(range(len(mean_matrix)), mean_matrix.index)\n",
    "plt.title(\"Cluster Mean by PC\"); plt.xlabel(\"PC\"); plt.ylabel(\"Cluster\")\n",
    "plt.tight_layout(); plt.show() #군집별 PC 평균 Heatmap\n",
    "\n"
   ]
  },
  {
   "cell_type": "code",
   "execution_count": null,
   "id": "6b6ce3a0",
   "metadata": {},
   "outputs": [],
   "source": [
    "from sklearn.manifold import TSNE\n",
    "\n",
    "for i in [10, 30, 50, 70]:\n",
    "    tsne_model = TSNE(\n",
    "        n_components=2,      # 축소할 차원 (보통 2 또는 3)\n",
    "        perplexity=i,     # 가장 중요한 파라미터 중 하나. 데이터 포인트 주변의 로컬 이웃 수와 관련. (5 ~ 50 사이 값 권장)\n",
    "        learning_rate='auto',# 최적화 과정에서의 학습률. 'auto' (scikit-learn 1.2 이상) 또는 10 ~ 1000 사이 값.\n",
    "                            # 이전 버전에서는 learning_rate=200.0 이 기본값이었음.\n",
    "        n_iter=1000,         # 최적화를 위한 반복 횟수 (최소 250, 보통 1000 이상 권장)\n",
    "        init='pca',          # 초기 임베딩 방법 ('random' 또는 'pca'). 'pca'가 더 안정적이고 좋은 결과를 주는 경향이 있음.\n",
    "        random_state=42      # 결과 재현을 위한 시드 값\n",
    "    )\n",
    "\n",
    "    # t-SNE 적용 (원본 X 또는 X_scaled 사용)\n",
    "    tsne_results = tsne_model.fit_transform(X_scaled) # 또는 X_scaled\n",
    "\n",
    "    # 2D 시각화\n",
    "    plt.figure(figsize=(10, 7))\n",
    "    scatter = plt.scatter(tsne_results[:, 0], tsne_results[:, 1], c=merged[\"cluster\"], cmap='viridis', alpha=0.7)\n",
    "\n",
    "\n",
    "    plt.title('t-SNE visualization of data')\n",
    "    plt.xlabel('t-SNE Component 1')\n",
    "    plt.ylabel('t-SNE Component 2')\n",
    "    plt.grid(True)\n",
    "    plt.show()"
   ]
  },
  {
   "cell_type": "code",
   "execution_count": null,
   "id": "b7e763eb",
   "metadata": {},
   "outputs": [],
   "source": [
    "#PC 평균\n",
    "display(\n",
    "    mean_matrix.round(2)\n",
    "               .style.background_gradient(cmap=\"Blues\", axis=None)\n",
    "               .set_caption(\"클러스터별 주성분 평균\")\n",
    ")\n",
    "#원본 변수 — 변별력 상위 8개\n",
    "cluster_avg = merged.groupby(\"cluster\")[feature_cols].mean()\n",
    "top_vars = cluster_avg.var().sort_values(ascending=False).head(8).index\n",
    "\n",
    "display(\n",
    "    cluster_avg[top_vars].T.round(1)\n",
    "               .style.background_gradient(cmap=\"YlOrRd\", axis=1)\n",
    "               .set_caption(\"클러스터별 평균 — 변별력 상위 8개 변수\")\n",
    ")"
   ]
  },
  {
   "cell_type": "code",
   "execution_count": 119,
   "id": "350b1e1a",
   "metadata": {},
   "outputs": [],
   "source": [
    "# merged에서 일부 열만 추출한 걸로 클러스터링 해보기\n",
    "# \n",
    "new_merged = merged[['점포_수','프랜차이즈_점포_수',\"개업_율\",\"폐업_률\",\"행정동_코드\",\"당월_매출_건수\", \"당월_매출_금액\",'시간대_06~11_매출_금액', '시간대_11~14_매출_금액','시간대_14~17_매출_금액', '시간대_17~21_매출_금액', '시간대_21~24_매출_금액']]\n",
    "new_merged['여성_비율'] = merged['여성_매출_건수'] / merged['남성_매출_건수']\n",
    "new_merged['20대_매출_금액_비율'] = merged['연령대_20_매출_금액'] / merged['당월_매출_금액']\n",
    "new_merged['20대_유동인구_비율'] = merged['연령대_20_유동인구_수'] / (merged['연령대_50_유동인구_수']+merged['연령대_20_유동인구_수']+merged['연령대_30_유동인구_수']+merged['연령대_40_유동인구_수']+merged['연령대_60_이상_유동인구_수'])\n",
    "\n"
   ]
  },
  {
   "cell_type": "code",
   "execution_count": null,
   "id": "d3827421",
   "metadata": {},
   "outputs": [],
   "source": [
    "\n",
    "# 새로운 데이터셋에 대한 PCA 수행\n",
    "scaler = StandardScaler()\n",
    "X_scaled = scaler.fit_transform(new_merged)\n",
    "\n",
    "# 2개짜리 pca\n",
    "pca2 = PCA(n_components=2)\n",
    "X_pca2 = pca2.fit_transform(X_scaled)\n",
    "\n",
    "pca = PCA(n_components=3)  # 2개의 주성분만 사용\n",
    "X_pca = pca.fit_transform(X_scaled)\n",
    "\n",
    "print(pca.components_)\n",
    "print(pca.n_components_)\n"
   ]
  },
  {
   "cell_type": "code",
   "execution_count": null,
   "id": "e602a07e",
   "metadata": {},
   "outputs": [],
   "source": [
    "# 클러스터링 및 2차원 시각화\n",
    "\n",
    "kmeans = KMeans(n_clusters=5, random_state=42, n_init=10)\n",
    "new_merged['cluster'] = kmeans.fit_predict(X_pca)\n",
    "\n",
    "# 2차원 시각화\n",
    "plt.figure(figsize=(10, 8))\n",
    "plt.scatter(X_pca[:,0], X_pca[:,1], c=new_merged['cluster'], cmap='viridis', alpha=0.3)\n",
    "plt.xlabel('PC1')\n",
    "plt.ylabel('PC2')\n",
    "plt.show()\n"
   ]
  },
  {
   "cell_type": "code",
   "execution_count": null,
   "id": "594a6bc0",
   "metadata": {},
   "outputs": [],
   "source": [
    "# 클러스터링 적용\n",
    "kmeans = KMeans(n_clusters=5, random_state=42, n_init=10)\n",
    "new_merged['cluster'] = kmeans.fit_predict(X_pca)\n",
    "\n",
    "# 3차원 시각화\n",
    "from mpl_toolkits.mplot3d import Axes3D\n",
    "\n",
    "fig = plt.figure(figsize=(10, 8))\n",
    "ax = fig.add_subplot(111, projection='3d')\n",
    "\n",
    "ax.scatter(X_pca[:,0], X_pca[:,1], X_pca[:,2], c=new_merged['cluster'], cmap='viridis', alpha=0.3)\n",
    "\n",
    "ax.set_xlabel('PC1')\n",
    "ax.set_ylabel('PC2')\n",
    "ax.set_zlabel('PC3')\n",
    "plt.show()\n"
   ]
  },
  {
   "cell_type": "code",
   "execution_count": null,
   "id": "1200de17",
   "metadata": {},
   "outputs": [],
   "source": [
    "\n",
    "# DBSCAN으로 클러스터링 해보기\n",
    "from sklearn.cluster import DBSCAN\n",
    "\n",
    "\n",
    "# DBSCAN 적용\n",
    "dbscan = DBSCAN(eps=0.1, min_samples=10, metric='euclidean')\n",
    "new_merged['cluster'] = dbscan.fit_predict(X_pca)\n",
    "\n",
    "# 3d 시각화\n",
    "\n",
    "from mpl_toolkits.mplot3d import Axes3D\n",
    "\n",
    "fig = plt.figure(figsize=(10, 8))\n",
    "ax = fig.add_subplot(111, projection='3d')\n",
    "\n",
    "ax.scatter(X_pca[:,0], X_pca[:,1], X_pca[:,2], c=new_merged['cluster'], cmap='viridis', alpha=0.1)\n",
    "\n",
    "ax.set_xlabel('PC1')\n",
    "ax.set_ylabel('PC2')\n",
    "ax.set_zlabel('PC3')\n",
    "plt.show()\n",
    "\n",
    "\n",
    "\n"
   ]
  }
 ],
 "metadata": {
  "kernelspec": {
   "display_name": "base",
   "language": "python",
   "name": "python3"
  },
  "language_info": {
   "codemirror_mode": {
    "name": "ipython",
    "version": 3
   },
   "file_extension": ".py",
   "mimetype": "text/x-python",
   "name": "python",
   "nbconvert_exporter": "python",
   "pygments_lexer": "ipython3",
   "version": "3.12.7"
  }
 },
 "nbformat": 4,
 "nbformat_minor": 5
}
