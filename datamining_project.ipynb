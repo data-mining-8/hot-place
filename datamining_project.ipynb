{
 "cells": [
  {
   "cell_type": "markdown",
   "id": "412d4cc3",
   "metadata": {},
   "source": [
    "## 데이터마이닝 프로젝트"
   ]
  },
  {
   "cell_type": "code",
   "execution_count": 1,
   "id": "72884e09",
   "metadata": {},
   "outputs": [],
   "source": [
    "import pandas as pd\n",
    "import numpy as np\n",
    "import matplotlib.pyplot as plt\n",
    "\n",
    "from sklearn.preprocessing import StandardScaler\n",
    "from sklearn.decomposition import PCA\n",
    "from sklearn.cluster import KMeans\n",
    "from sklearn.metrics import silhouette_score, calinski_harabasz_score, davies_bouldin_score\n",
    "\n",
    "import warnings\n",
    "warnings.filterwarnings('ignore')\n"
   ]
  },
  {
   "cell_type": "code",
   "execution_count": 2,
   "id": "f981dc48",
   "metadata": {},
   "outputs": [],
   "source": [
    "# 데이터 로드\n",
    "\n",
    "FP_PATH    = \"floating_population.csv\"   # 유동인구\n",
    "SALES_PATH = \"sales.csv\"                 # 매출\n",
    "STORE_PATH = \"store.csv\"                 # 점포\n"
   ]
  },
  {
   "cell_type": "code",
   "execution_count": 79,
   "id": "ea113d4d",
   "metadata": {},
   "outputs": [
    {
     "name": "stdout",
     "output_type": "stream",
     "text": [
      "(1700, 25) (67900, 53) (141001, 12)\n"
     ]
    }
   ],
   "source": [
    "def read_korean_csv(path: str) -> pd.DataFrame:\n",
    "    \"\"\"Try common Korean encodings.\"\"\"\n",
    "    for enc in (\"utf-8\", \"cp949\", \"euc-kr\"):\n",
    "        try:\n",
    "            return pd.read_csv(path, encoding=enc)\n",
    "        except UnicodeDecodeError:\n",
    "            continue\n",
    "    return pd.read_csv(path)\n",
    "\n",
    "fp    = read_korean_csv(FP_PATH)\n",
    "fp = fp[fp[\"기준_년분기_코드\"] // 10 == 2024]\n",
    "sales = read_korean_csv(SALES_PATH)\n",
    "store = read_korean_csv(STORE_PATH)\n",
    "\n",
    "print(fp.shape, sales.shape, store.shape)\n"
   ]
  },
  {
   "cell_type": "code",
   "execution_count": 80,
   "id": "69610b5d",
   "metadata": {},
   "outputs": [
    {
     "data": {
      "text/plain": [
       "array([20241, 20242, 20243, 20244])"
      ]
     },
     "metadata": {},
     "output_type": "display_data"
    },
    {
     "data": {
      "text/plain": [
       "array([20241, 20242, 20243, 20244])"
      ]
     },
     "metadata": {},
     "output_type": "display_data"
    },
    {
     "data": {
      "text/plain": [
       "array([20241, 20242, 20243, 20244])"
      ]
     },
     "metadata": {},
     "output_type": "display_data"
    }
   ],
   "source": [
    "f = lambda x: display(x[\"기준_년분기_코드\"].unique())\n",
    "f(fp)\n",
    "f(sales)\n",
    "f(store)"
   ]
  },
  {
   "cell_type": "code",
   "execution_count": 18,
   "id": "7f676c2a",
   "metadata": {},
   "outputs": [
    {
     "data": {
      "text/plain": [
       "Index(['기준_년분기_코드', '행정동_코드', '행정동_코드_명', '총_유동인구_수', '남성_유동인구_수', '여성_유동인구_수',\n",
       "       '연령대_10_유동인구_수', '연령대_20_유동인구_수', '연령대_30_유동인구_수', '연령대_40_유동인구_수',\n",
       "       '연령대_50_유동인구_수', '연령대_60_이상_유동인구_수', '시간대_00_06_유동인구_수',\n",
       "       '시간대_06_11_유동인구_수', '시간대_11_14_유동인구_수', '시간대_14_17_유동인구_수',\n",
       "       '시간대_17_21_유동인구_수', '시간대_21_24_유동인구_수', '월요일_유동인구_수', '화요일_유동인구_수',\n",
       "       '수요일_유동인구_수', '목요일_유동인구_수', '금요일_유동인구_수', '토요일_유동인구_수', '일요일_유동인구_수'],\n",
       "      dtype='object')"
      ]
     },
     "metadata": {},
     "output_type": "display_data"
    },
    {
     "data": {
      "text/plain": [
       "Index(['기준_년분기_코드', '행정동_코드', '행정동_코드_명', '서비스_업종_코드', '서비스_업종_코드_명',\n",
       "       '당월_매출_금액', '당월_매출_건수', '주중_매출_금액', '주말_매출_금액', '월요일_매출_금액',\n",
       "       '화요일_매출_금액', '수요일_매출_금액', '목요일_매출_금액', '금요일_매출_금액', '토요일_매출_금액',\n",
       "       '일요일_매출_금액', '시간대_00~06_매출_금액', '시간대_06~11_매출_금액', '시간대_11~14_매출_금액',\n",
       "       '시간대_14~17_매출_금액', '시간대_17~21_매출_금액', '시간대_21~24_매출_금액', '남성_매출_금액',\n",
       "       '여성_매출_금액', '연령대_10_매출_금액', '연령대_20_매출_금액', '연령대_30_매출_금액',\n",
       "       '연령대_40_매출_금액', '연령대_50_매출_금액', '연령대_60_이상_매출_금액', '주중_매출_건수',\n",
       "       '주말_매출_건수', '월요일_매출_건수', '화요일_매출_건수', '수요일_매출_건수', '목요일_매출_건수',\n",
       "       '금요일_매출_건수', '토요일_매출_건수', '일요일_매출_건수', '시간대_건수~06_매출_건수',\n",
       "       '시간대_건수~11_매출_건수', '시간대_건수~14_매출_건수', '시간대_건수~17_매출_건수',\n",
       "       '시간대_건수~21_매출_건수', '시간대_건수~24_매출_건수', '남성_매출_건수', '여성_매출_건수',\n",
       "       '연령대_10_매출_건수', '연령대_20_매출_건수', '연령대_30_매출_건수', '연령대_40_매출_건수',\n",
       "       '연령대_50_매출_건수', '연령대_60_이상_매출_건수'],\n",
       "      dtype='object')"
      ]
     },
     "metadata": {},
     "output_type": "display_data"
    },
    {
     "data": {
      "text/plain": [
       "Index(['기준_년분기_코드', '행정동_코드', '행정동_코드_명', '서비스_업종_코드', '서비스_업종_코드_명', '점포_수',\n",
       "       '유사_업종_점포_수', '개업_율', '개업_점포_수', '폐업_률', '폐업_점포_수', '프랜차이즈_점포_수'],\n",
       "      dtype='object')"
      ]
     },
     "metadata": {},
     "output_type": "display_data"
    }
   ],
   "source": [
    "def get_columns(df):\n",
    "    display(df.columns)\n",
    "get_columns(fp)\n",
    "get_columns(sales)\n",
    "get_columns(store)"
   ]
  },
  {
   "cell_type": "code",
   "execution_count": 106,
   "id": "6da4f4ae",
   "metadata": {},
   "outputs": [
    {
     "name": "stdout",
     "output_type": "stream",
     "text": [
      "Merged: (1696, 80)\n"
     ]
    }
   ],
   "source": [
    "#데이터 전처리\n",
    "def make_numeric(df, drop_cols):\n",
    "    return [c for c in df.columns if c not in drop_cols and df[c].dtype != 'object']\n",
    "\n",
    "sales_num = make_numeric(sales, [\"행정동_코드\", \"기준_년분기_코드\"])\n",
    "store_num = make_numeric(store, [\"행정동_코드\", \"기준_년분기_코드\"])\n",
    "\n",
    "sales_agg = (sales\n",
    "             .groupby([\"기준_년분기_코드\", \"행정동_코드\"])[sales_num]\n",
    "             .sum()\n",
    "             .reset_index())\n",
    "\n",
    "store_agg = (store\n",
    "             .groupby([\"기준_년분기_코드\", \"행정동_코드\"])[store_num]\n",
    "             .median() # 0 값이 많아 median과 차이가 있는데 어떤 걸로 할지?\n",
    "             .reset_index())\n",
    "\n",
    "merged = (fp\n",
    "          .merge(sales_agg, on=[\"기준_년분기_코드\", \"행정동_코드\"], how=\"left\")\n",
    "          .merge(store_agg, on=[\"기준_년분기_코드\", \"행정동_코드\"], how=\"left\"))\n",
    "merged = merged.dropna(axis=0)\n",
    "print(\"Merged:\", merged.shape)\n"
   ]
  },
  {
   "cell_type": "code",
   "execution_count": 107,
   "id": "3d91f0eb",
   "metadata": {},
   "outputs": [
    {
     "data": {
      "text/plain": [
       "np.int64(0)"
      ]
     },
     "execution_count": 107,
     "metadata": {},
     "output_type": "execute_result"
    }
   ],
   "source": [
    "merged.isna().sum().sum()"
   ]
  },
  {
   "cell_type": "code",
   "execution_count": 108,
   "id": "95edf9c8",
   "metadata": {},
   "outputs": [
    {
     "name": "stdout",
     "output_type": "stream",
     "text": [
      "PCA → 8 components (cum var 95.74%)\n"
     ]
    }
   ],
   "source": [
    "# 표준화 후 PCA 분석\n",
    "feature_cols = [c for c in merged.columns\n",
    "                if c not in (\"행정동_코드\", \"기준_년분기_코드\") and merged[c].dtype != 'object']\n",
    "\n",
    "scaler = StandardScaler()\n",
    "X_scaled = scaler.fit_transform(merged[feature_cols])\n",
    "\n",
    "pca = PCA(n_components=0.95, random_state=42, svd_solver='full')\n",
    "X_pca = pca.fit_transform(X_scaled)\n",
    "\n",
    "print(f\"PCA → {X_pca.shape[1]} components (cum var {pca.explained_variance_ratio_.sum():.2%})\")\n"
   ]
  },
  {
   "cell_type": "code",
   "execution_count": 109,
   "id": "28ad7bec",
   "metadata": {},
   "outputs": [
    {
     "name": "stdout",
     "output_type": "stream",
     "text": [
      "PCA → 8 components (each var \n",
      "[0.59962859 0.19613529 0.05014427 0.0322328  0.02722543 0.02139378\n",
      " 0.01797096 0.01270912])\n"
     ]
    }
   ],
   "source": [
    "print(f\"PCA → {X_pca.shape[1]} components (each var \\n{pca.explained_variance_ratio_})\")"
   ]
  },
  {
   "cell_type": "markdown",
   "id": "4627c6ac",
   "metadata": {},
   "source": [
    "-> 8개 주성분으로 원본 데이터의 분산 95.05% 설명 가능"
   ]
  },
  {
   "cell_type": "code",
   "execution_count": 110,
   "id": "f8d7b860",
   "metadata": {},
   "outputs": [],
   "source": [
    "loadings = pd.DataFrame(\n",
    "    pca.components_.T,                         # (변수 개수 × 주성분 개수) 행렬\n",
    "    index=feature_cols,                        # 행 = 원본 변수 이름\n",
    "    columns=[f\"PC{i+1}\" for i in range(pca.n_components_)]\n",
    ")"
   ]
  },
  {
   "cell_type": "code",
   "execution_count": 111,
   "id": "b2a555c2",
   "metadata": {},
   "outputs": [
    {
     "data": {
      "text/plain": [
       "80"
      ]
     },
     "execution_count": 111,
     "metadata": {},
     "output_type": "execute_result"
    }
   ],
   "source": [
    "len(merged.columns)"
   ]
  },
  {
   "cell_type": "code",
   "execution_count": 112,
   "id": "6c852951",
   "metadata": {},
   "outputs": [
    {
     "name": "stdout",
     "output_type": "stream",
     "text": [
      "\n",
      "PC1 상위 기여 변수:\n",
      "남성_매출_건수           0.141352\n",
      "당월_매출_건수           0.141075\n",
      "금요일_매출_건수          0.140736\n",
      "주중_매출_건수           0.139775\n",
      "수요일_매출_건수          0.139446\n",
      "목요일_매출_건수          0.139255\n",
      "월요일_매출_건수          0.138997\n",
      "화요일_매출_건수          0.138848\n",
      "시간대_건수~21_매출_건수    0.138278\n",
      "여성_매출_건수           0.137348\n",
      "연령대_50_매출_건수       0.135436\n",
      "연령대_40_매출_건수       0.134974\n",
      "시간대_건수~14_매출_건수    0.134890\n",
      "여성_매출_금액           0.134807\n",
      "목요일_매출_금액          0.133696\n",
      "토요일_매출_건수          0.133625\n",
      "주중_매출_금액           0.133537\n",
      "주말_매출_건수           0.133070\n",
      "수요일_매출_금액          0.133004\n",
      "당월_매출_금액           0.132907\n",
      "월요일_매출_금액          0.132821\n",
      "시간대_건수~11_매출_건수    0.132282\n",
      "금요일_매출_금액          0.132225\n",
      "화요일_매출_금액          0.131686\n",
      "시간대_건수~17_매출_건수    0.131301\n",
      "일요일_매출_건수          0.131245\n",
      "연령대_30_매출_건수       0.130694\n",
      "시간대_11~14_매출_금액    0.130645\n",
      "남성_매출_금액           0.129985\n",
      "연령대_30_매출_금액       0.129060\n",
      "Name: PC1, dtype: float64\n",
      "\n",
      "PC2 상위 기여 변수:\n",
      "시간대_00_06_유동인구_수    0.214037\n",
      "시간대_21_24_유동인구_수    0.208439\n",
      "일요일_유동인구_수          0.205890\n",
      "여성_유동인구_수           0.199616\n",
      "토요일_유동인구_수          0.199299\n",
      "시간대_06_11_유동인구_수    0.195065\n",
      "연령대_50_유동인구_수       0.194910\n",
      "총_유동인구_수            0.194444\n",
      "연령대_60_이상_유동인구_수    0.192380\n",
      "월요일_유동인구_수          0.191306\n",
      "수요일_유동인구_수          0.189546\n",
      "화요일_유동인구_수          0.189013\n",
      "목요일_유동인구_수          0.188775\n",
      "금요일_유동인구_수          0.188112\n",
      "남성_유동인구_수           0.186930\n",
      "연령대_10_유동인구_수       0.182016\n",
      "시간대_17_21_유동인구_수    0.179319\n",
      "연령대_40_유동인구_수       0.177849\n",
      "연령대_30_유동인구_수       0.157055\n",
      "시간대_11_14_유동인구_수    0.154959\n",
      "시간대_14_17_유동인구_수    0.152947\n",
      "연령대_20_유동인구_수       0.135931\n",
      "일요일_매출_금액          -0.106132\n",
      "주말_매출_금액           -0.104692\n",
      "토요일_매출_금액          -0.101994\n",
      "시간대_14~17_매출_금액    -0.101357\n",
      "시간대_11~14_매출_금액    -0.094375\n",
      "당월_매출_금액           -0.094348\n",
      "남성_매출_금액           -0.092785\n",
      "연령대_40_매출_금액       -0.092780\n",
      "Name: PC2, dtype: float64\n",
      "\n",
      "PC3 상위 기여 변수:\n",
      "연령대_60_이상_매출_금액     0.280873\n",
      "연령대_60_이상_매출_건수     0.278418\n",
      "연령대_10_매출_금액       -0.270059\n",
      "연령대_20_매출_건수       -0.266248\n",
      "연령대_10_매출_건수       -0.254037\n",
      "시간대_06~11_매출_금액     0.226596\n",
      "시간대_건수~24_매출_건수    -0.222736\n",
      "폐업_률               -0.218204\n",
      "폐업_점포_수            -0.213434\n",
      "연령대_20_매출_금액       -0.209302\n",
      "시간대_21~24_매출_금액    -0.183814\n",
      "연령대_60_이상_유동인구_수    0.173886\n",
      "연령대_30_매출_건수       -0.170584\n",
      "유사_업종_점포_수         -0.156481\n",
      "점포_수               -0.155493\n",
      "시간대_건수~06_매출_건수    -0.118283\n",
      "연령대_50_매출_금액        0.116677\n",
      "시간대_14~17_매출_금액     0.116534\n",
      "토요일_매출_금액           0.113552\n",
      "주말_매출_금액            0.106926\n",
      "시간대_00_06_유동인구_수    0.106103\n",
      "연령대_50_유동인구_수       0.100478\n",
      "시간대_건수~21_매출_건수    -0.097341\n",
      "남성_매출_금액            0.095129\n",
      "일요일_매출_금액           0.094407\n",
      "개업_점포_수            -0.094389\n",
      "연령대_20_유동인구_수      -0.087528\n",
      "시간대_건수~17_매출_건수     0.082628\n",
      "시간대_11~14_매출_금액     0.080803\n",
      "당월_매출_금액            0.076231\n",
      "Name: PC3, dtype: float64\n",
      "\n",
      "PC4 상위 기여 변수:\n",
      "개업_점포_수             0.464490\n",
      "개업_율                0.430114\n",
      "폐업_률                0.340722\n",
      "폐업_점포_수             0.330592\n",
      "시간대_건수~06_매출_건수    -0.246106\n",
      "연령대_10_매출_금액       -0.237569\n",
      "연령대_10_매출_건수       -0.223822\n",
      "시간대_00~06_매출_금액    -0.221438\n",
      "시간대_건수~24_매출_건수    -0.145924\n",
      "시간대_21~24_매출_금액    -0.131286\n",
      "연령대_20_유동인구_수      -0.107499\n",
      "연령대_20_매출_금액       -0.095065\n",
      "토요일_매출_건수          -0.094059\n",
      "연령대_20_매출_건수       -0.093619\n",
      "주말_매출_건수           -0.087122\n",
      "유사_업종_점포_수          0.077552\n",
      "일요일_매출_건수          -0.077078\n",
      "점포_수                0.076503\n",
      "시간대_11~14_매출_금액     0.063278\n",
      "시간대_14~17_매출_금액     0.062394\n",
      "연령대_40_유동인구_수       0.060166\n",
      "연령대_50_유동인구_수       0.058991\n",
      "시간대_06~11_매출_금액    -0.058925\n",
      "시간대_건수~14_매출_건수     0.057376\n",
      "연령대_30_매출_건수        0.055374\n",
      "연령대_60_이상_유동인구_수    0.052604\n",
      "연령대_40_매출_금액        0.052338\n",
      "시간대_건수~11_매출_건수     0.046489\n",
      "시간대_건수~21_매출_건수    -0.046481\n",
      "연령대_50_매출_금액        0.045305\n",
      "Name: PC4, dtype: float64\n",
      "\n",
      "PC5 상위 기여 변수:\n",
      "연령대_60_이상_매출_건수    0.285723\n",
      "시간대_00~06_매출_금액   -0.246206\n",
      "시간대_건수~17_매출_건수    0.215895\n",
      "여성_매출_건수           0.195910\n",
      "연령대_30_매출_금액      -0.189249\n",
      "시간대_17~21_매출_금액   -0.189229\n",
      "연령대_50_매출_건수       0.185704\n",
      "시간대_건수~11_매출_건수    0.184808\n",
      "시간대_21~24_매출_금액   -0.183714\n",
      "시간대_건수~06_매출_건수   -0.183572\n",
      "연령대_40_매출_금액      -0.172086\n",
      "시간대_건수~14_매출_건수    0.171512\n",
      "일요일_매출_건수          0.160660\n",
      "남성_매출_금액          -0.155544\n",
      "주말_매출_건수           0.147376\n",
      "목요일_매출_건수          0.146632\n",
      "월요일_매출_건수          0.146516\n",
      "당월_매출_건수           0.145895\n",
      "금요일_매출_금액         -0.145562\n",
      "토요일_매출_금액         -0.145477\n",
      "주중_매출_건수           0.141180\n",
      "수요일_매출_건수          0.139041\n",
      "화요일_매출_건수          0.138515\n",
      "토요일_매출_건수          0.136624\n",
      "금요일_매출_건수          0.134122\n",
      "화요일_매출_금액         -0.131849\n",
      "주말_매출_금액          -0.131544\n",
      "당월_매출_금액          -0.131256\n",
      "주중_매출_금액          -0.127033\n",
      "수요일_매출_금액         -0.122628\n",
      "Name: PC5, dtype: float64\n",
      "\n",
      "PC6 상위 기여 변수:\n",
      "개업_율                0.435686\n",
      "개업_점포_수             0.385198\n",
      "연령대_10_매출_금액        0.241780\n",
      "유사_업종_점포_수         -0.235616\n",
      "점포_수               -0.232326\n",
      "연령대_10_매출_건수        0.200318\n",
      "시간대_건수~06_매출_건수     0.176630\n",
      "일요일_매출_건수           0.169997\n",
      "일요일_매출_금액           0.161117\n",
      "주말_매출_건수            0.157019\n",
      "연령대_20_유동인구_수       0.155563\n",
      "토요일_매출_건수           0.146435\n",
      "주말_매출_금액            0.136131\n",
      "연령대_40_유동인구_수      -0.118081\n",
      "토요일_매출_금액           0.117124\n",
      "시간대_00~06_매출_금액     0.110932\n",
      "연령대_60_이상_매출_건수     0.108034\n",
      "시간대_건수~14_매출_건수    -0.106907\n",
      "연령대_30_매출_건수       -0.102692\n",
      "시간대_11~14_매출_금액    -0.101383\n",
      "시간대_00_06_유동인구_수    0.098109\n",
      "일요일_유동인구_수          0.095427\n",
      "목요일_매출_금액          -0.095168\n",
      "시간대_11_14_유동인구_수   -0.094724\n",
      "시간대_건수~11_매출_건수    -0.093628\n",
      "시간대_21_24_유동인구_수    0.092565\n",
      "화요일_매출_금액          -0.090568\n",
      "월요일_매출_금액          -0.090274\n",
      "연령대_20_매출_건수        0.085684\n",
      "주중_매출_금액           -0.085098\n",
      "Name: PC6, dtype: float64\n",
      "\n",
      "PC7 상위 기여 변수:\n",
      "시간대_00~06_매출_금액    0.571305\n",
      "시간대_건수~06_매출_건수    0.435185\n",
      "폐업_률               0.219304\n",
      "연령대_10_매출_건수      -0.214540\n",
      "시간대_17~21_매출_금액   -0.203166\n",
      "폐업_점포_수            0.202187\n",
      "일요일_매출_금액         -0.186941\n",
      "연령대_10_매출_금액      -0.177487\n",
      "시간대_06~11_매출_금액    0.161592\n",
      "연령대_10_유동인구_수     -0.157185\n",
      "연령대_60_이상_매출_건수    0.134847\n",
      "연령대_40_매출_금액      -0.130503\n",
      "시간대_14~17_매출_금액   -0.125432\n",
      "주말_매출_금액          -0.123948\n",
      "연령대_20_매출_금액      -0.123309\n",
      "시간대_21~24_매출_금액    0.117887\n",
      "시간대_건수~11_매출_건수    0.105462\n",
      "연령대_60_이상_매출_금액    0.097260\n",
      "연령대_30_매출_금액      -0.087034\n",
      "시간대_건수~21_매출_건수   -0.085433\n",
      "시간대_건수~24_매출_건수    0.083118\n",
      "토요일_매출_금액         -0.079656\n",
      "개업_점포_수            0.076528\n",
      "시간대_11~14_매출_금액   -0.066765\n",
      "연령대_20_매출_건수      -0.066415\n",
      "일요일_매출_건수         -0.059446\n",
      "여성_매출_금액          -0.051507\n",
      "목요일_매출_건수          0.044656\n",
      "연령대_30_유동인구_수      0.044157\n",
      "남성_매출_건수           0.042978\n",
      "Name: PC7, dtype: float64\n",
      "\n",
      "PC8 상위 기여 변수:\n",
      "폐업_점포_수            0.507060\n",
      "폐업_률               0.489918\n",
      "개업_율              -0.359174\n",
      "개업_점포_수           -0.253643\n",
      "유사_업종_점포_수        -0.153221\n",
      "연령대_40_매출_건수      -0.145170\n",
      "점포_수              -0.145105\n",
      "연령대_20_매출_금액       0.128882\n",
      "시간대_00~06_매출_금액   -0.125305\n",
      "연령대_20_유동인구_수      0.121238\n",
      "토요일_매출_금액          0.112784\n",
      "주말_매출_금액           0.103513\n",
      "연령대_10_유동인구_수     -0.101824\n",
      "연령대_60_이상_매출_금액    0.094276\n",
      "연령대_60_이상_매출_건수    0.090638\n",
      "시간대_건수~06_매출_건수   -0.090160\n",
      "시간대_21~24_매출_금액   -0.089048\n",
      "일요일_매출_금액          0.087134\n",
      "화요일_매출_건수         -0.085863\n",
      "연령대_10_매출_금액       0.084884\n",
      "토요일_매출_건수          0.083988\n",
      "시간대_건수~11_매출_건수   -0.083906\n",
      "월요일_매출_건수         -0.080440\n",
      "주말_매출_건수           0.079067\n",
      "연령대_40_매출_금액      -0.078834\n",
      "연령대_30_매출_건수      -0.076890\n",
      "시간대_06~11_매출_금액    0.074096\n",
      "수요일_매출_건수         -0.073322\n",
      "주중_매출_건수          -0.073030\n",
      "목요일_매출_건수         -0.072307\n",
      "Name: PC8, dtype: float64\n"
     ]
    }
   ],
   "source": [
    "for pc in loadings.columns:          # 'PC1' … 'PC7'\n",
    "    top = (loadings[pc]\n",
    "           .sort_values(ascending=False, key=abs)\n",
    "           .head(30))                # 상위 8개 변수\n",
    "    print(f\"\\n{pc} 상위 기여 변수:\")\n",
    "    print(top)"
   ]
  },
  {
   "cell_type": "code",
   "execution_count": 113,
   "id": "1d3a88e0",
   "metadata": {},
   "outputs": [
    {
     "data": {
      "text/html": [
       "<div>\n",
       "<style scoped>\n",
       "    .dataframe tbody tr th:only-of-type {\n",
       "        vertical-align: middle;\n",
       "    }\n",
       "\n",
       "    .dataframe tbody tr th {\n",
       "        vertical-align: top;\n",
       "    }\n",
       "\n",
       "    .dataframe thead th {\n",
       "        text-align: right;\n",
       "    }\n",
       "</style>\n",
       "<table border=\"1\" class=\"dataframe\">\n",
       "  <thead>\n",
       "    <tr style=\"text-align: right;\">\n",
       "      <th></th>\n",
       "      <th>inertia</th>\n",
       "      <th>silhouette</th>\n",
       "      <th>calinski</th>\n",
       "      <th>davies</th>\n",
       "    </tr>\n",
       "    <tr>\n",
       "      <th>k</th>\n",
       "      <th></th>\n",
       "      <th></th>\n",
       "      <th></th>\n",
       "      <th></th>\n",
       "    </tr>\n",
       "  </thead>\n",
       "  <tbody>\n",
       "    <tr>\n",
       "      <th>2</th>\n",
       "      <td>80093.31</td>\n",
       "      <td>0.71</td>\n",
       "      <td>916.17</td>\n",
       "      <td>0.97</td>\n",
       "    </tr>\n",
       "    <tr>\n",
       "      <th>3</th>\n",
       "      <td>57029.05</td>\n",
       "      <td>0.45</td>\n",
       "      <td>985.32</td>\n",
       "      <td>0.98</td>\n",
       "    </tr>\n",
       "    <tr>\n",
       "      <th>4</th>\n",
       "      <td>45729.27</td>\n",
       "      <td>0.42</td>\n",
       "      <td>958.07</td>\n",
       "      <td>1.02</td>\n",
       "    </tr>\n",
       "    <tr>\n",
       "      <th>5</th>\n",
       "      <td>39814.33</td>\n",
       "      <td>0.38</td>\n",
       "      <td>887.62</td>\n",
       "      <td>0.99</td>\n",
       "    </tr>\n",
       "    <tr>\n",
       "      <th>6</th>\n",
       "      <td>33966.99</td>\n",
       "      <td>0.38</td>\n",
       "      <td>890.04</td>\n",
       "      <td>1.05</td>\n",
       "    </tr>\n",
       "    <tr>\n",
       "      <th>7</th>\n",
       "      <td>30759.73</td>\n",
       "      <td>0.38</td>\n",
       "      <td>847.91</td>\n",
       "      <td>0.91</td>\n",
       "    </tr>\n",
       "    <tr>\n",
       "      <th>8</th>\n",
       "      <td>27997.56</td>\n",
       "      <td>0.38</td>\n",
       "      <td>821.80</td>\n",
       "      <td>0.83</td>\n",
       "    </tr>\n",
       "    <tr>\n",
       "      <th>9</th>\n",
       "      <td>26284.09</td>\n",
       "      <td>0.38</td>\n",
       "      <td>779.25</td>\n",
       "      <td>0.84</td>\n",
       "    </tr>\n",
       "    <tr>\n",
       "      <th>10</th>\n",
       "      <td>23920.04</td>\n",
       "      <td>0.32</td>\n",
       "      <td>779.17</td>\n",
       "      <td>0.98</td>\n",
       "    </tr>\n",
       "  </tbody>\n",
       "</table>\n",
       "</div>"
      ],
      "text/plain": [
       "     inertia  silhouette  calinski  davies\n",
       "k                                         \n",
       "2   80093.31        0.71    916.17    0.97\n",
       "3   57029.05        0.45    985.32    0.98\n",
       "4   45729.27        0.42    958.07    1.02\n",
       "5   39814.33        0.38    887.62    0.99\n",
       "6   33966.99        0.38    890.04    1.05\n",
       "7   30759.73        0.38    847.91    0.91\n",
       "8   27997.56        0.38    821.80    0.83\n",
       "9   26284.09        0.38    779.25    0.84\n",
       "10  23920.04        0.32    779.17    0.98"
      ]
     },
     "metadata": {},
     "output_type": "display_data"
    },
    {
     "name": "stdout",
     "output_type": "stream",
     "text": [
      "Best k (silhouette): 2\n"
     ]
    }
   ],
   "source": [
    "# kmeans Clustering 사용하기 위해 k 설정하는 과정(지표 비교)\n",
    "\n",
    "def eval_k(X, k):\n",
    "    km = KMeans(n_clusters=k, random_state=42, n_init=10).fit(X)\n",
    "    labels = km.labels_\n",
    "    return {\n",
    "        \"k\": k,\n",
    "        \"inertia\": km.inertia_,\n",
    "        \"silhouette\": silhouette_score(X, labels, sample_size=min(5000, len(X)), random_state=42),\n",
    "        \"calinski\": calinski_harabasz_score(X, labels),\n",
    "        \"davies\": davies_bouldin_score(X, labels)\n",
    "    }\n",
    "\n",
    "scores = pd.DataFrame([eval_k(X_pca, k) for k in range(2, 11)])\n",
    "display(scores.set_index(\"k\").round(2))\n",
    "\n",
    "best_k = scores.loc[scores['silhouette'].idxmax(), 'k']\n",
    "print(\"Best k (silhouette):\", best_k)\n"
   ]
  },
  {
   "cell_type": "code",
   "execution_count": 114,
   "id": "ab4530be",
   "metadata": {},
   "outputs": [
    {
     "data": {
      "image/png": "[encoded data removed]",
      "text/plain": [
       "<Figure size 640x480 with 1 Axes>"
      ]
     },
     "metadata": {},
     "output_type": "display_data"
    }
   ],
   "source": [
    "from sklearn.cluster import KMeans\n",
    "import matplotlib.pyplot as plt\n",
    "\n",
    "ks, inertias = [], []\n",
    "for k in range(2, 11):\n",
    "    km = KMeans(n_clusters=k, random_state=42, n_init=10).fit(X_pca)\n",
    "    ks.append(k)\n",
    "    inertias.append(km.inertia_)\n",
    "\n",
    "plt.plot(ks, inertias, 'o-')\n",
    "plt.title(\"Elbow Method\")\n",
    "plt.xlabel(\"k\"); plt.ylabel(\"Inertia\")\n",
    "plt.show()"
   ]
  },
  {
   "cell_type": "code",
   "execution_count": 115,
   "id": "87b2541a",
   "metadata": {},
   "outputs": [],
   "source": [
    "### silhouette score는 k=2에서 제일 높았지만, 2개의 클러스터는 적다고 느껴지기도 하고 엘보우 메소드를 참고해서 k=4로 해봤습니다!"
   ]
  },
  {
   "cell_type": "code",
   "execution_count": 131,
   "id": "6ac69930",
   "metadata": {},
   "outputs": [
    {
     "data": {
      "text/plain": [
       "cluster\n",
       "0    1004\n",
       "1     122\n",
       "2     548\n",
       "3      22\n",
       "Name: count, dtype: int64"
      ]
     },
     "execution_count": 131,
     "metadata": {},
     "output_type": "execute_result"
    }
   ],
   "source": [
    "# kmeans 클러스터링 적용\n",
    "kmeans = KMeans(n_clusters=4, random_state=42, n_init=10)\n",
    "merged['cluster'] = kmeans.fit_predict(X_pca)\n",
    "merged['cluster'].value_counts().sort_index()\n"
   ]
  },
  {
   "cell_type": "code",
   "execution_count": 132,
   "id": "bdc4c105",
   "metadata": {},
   "outputs": [
    {
     "data": {
      "image/png": "[encoded data removed]",
      "text/plain": [
       "<Figure size 500x400 with 1 Axes>"
      ]
     },
     "metadata": {},
     "output_type": "display_data"
    },
    {
     "data": {
      "image/png": "[encoded data removed]",
      "text/plain": [
       "<Figure size 400x300 with 1 Axes>"
      ]
     },
     "metadata": {},
     "output_type": "display_data"
    },
    {
     "data": {
      "image/png": "[encoded data removed]",
      "text/plain": [
       "<Figure size 600x300 with 2 Axes>"
      ]
     },
     "metadata": {},
     "output_type": "display_data"
    }
   ],
   "source": [
    "# 시각화\n",
    "plt.figure(figsize=(5,4))\n",
    "plt.scatter(X_pca[:,0], X_pca[:,1], c=merged['cluster'], s=8, cmap='tab10')\n",
    "plt.title('Clusters on PC1 vs PC2')\n",
    "plt.show()  #PCA 1·2 축 산점도\n",
    "\n",
    "plt.figure(figsize=(4,3))\n",
    "merged['cluster'].value_counts().sort_index().plot(kind='bar')\n",
    "plt.title('Cluster sizes')\n",
    "plt.show() #cluster 별 크기\n",
    "\n",
    "pc_df = pd.DataFrame(X_pca, columns=[f\"PC{i+1}\" for i in range(X_pca.shape[1])])\n",
    "pc_df[\"cluster\"] = merged[\"cluster\"]\n",
    "mean_matrix = pc_df.groupby(\"cluster\").mean()\n",
    "\n",
    "plt.figure(figsize=(6,3))\n",
    "plt.imshow(mean_matrix, aspect=\"auto\"); plt.colorbar()\n",
    "plt.yticks(range(len(mean_matrix)), mean_matrix.index)\n",
    "plt.title(\"Cluster Mean by PC\"); plt.xlabel(\"PC\"); plt.ylabel(\"Cluster\")\n",
    "plt.tight_layout(); plt.show() #군집별 PC 평균 Heatmap\n",
    "\n"
   ]
  },
  {
   "cell_type": "code",
   "execution_count": 1,
   "id": "6b6ce3a0",
   "metadata": {},
   "outputs": [
    {
     "ename": "NameError",
     "evalue": "name 'X_scaled' is not defined",
     "output_type": "error",
     "traceback": [
      "\u001b[31m---------------------------------------------------------------------------\u001b[39m",
      "\u001b[31mNameError\u001b[39m                                 Traceback (most recent call last)",
      "\u001b[36mCell\u001b[39m\u001b[36m \u001b[39m\u001b[32mIn[1]\u001b[39m\u001b[32m, line 15\u001b[39m\n\u001b[32m      4\u001b[39m tsne_model = TSNE(\n\u001b[32m      5\u001b[39m     n_components=\u001b[32m2\u001b[39m,      \u001b[38;5;66;03m# 축소할 차원 (보통 2 또는 3)\u001b[39;00m\n\u001b[32m      6\u001b[39m     perplexity=i,     \u001b[38;5;66;03m# 가장 중요한 파라미터 중 하나. 데이터 포인트 주변의 로컬 이웃 수와 관련. (5 ~ 50 사이 값 권장)\u001b[39;00m\n\u001b[32m   (...)\u001b[39m\u001b[32m     11\u001b[39m     random_state=\u001b[32m42\u001b[39m      \u001b[38;5;66;03m# 결과 재현을 위한 시드 값\u001b[39;00m\n\u001b[32m     12\u001b[39m )\n\u001b[32m     14\u001b[39m \u001b[38;5;66;03m# t-SNE 적용 (원본 X 또는 X_scaled 사용)\u001b[39;00m\n\u001b[32m---> \u001b[39m\u001b[32m15\u001b[39m tsne_results = tsne_model.fit_transform(\u001b[43mX_scaled\u001b[49m) \u001b[38;5;66;03m# 또는 X_scaled\u001b[39;00m\n\u001b[32m     17\u001b[39m \u001b[38;5;66;03m# 2D 시각화\u001b[39;00m\n\u001b[32m     18\u001b[39m plt.figure(figsize=(\u001b[32m10\u001b[39m, \u001b[32m7\u001b[39m))\n",
      "\u001b[31mNameError\u001b[39m: name 'X_scaled' is not defined"
     ]
    }
   ],
   "source": [
    "from sklearn.manifold import TSNE\n",
    "\n",
    "for i in [10, 30, 50, 70]:\n",
    "    tsne_model = TSNE(\n",
    "        n_components=2,      # 축소할 차원 (보통 2 또는 3)\n",
    "        perplexity=i,     # 가장 중요한 파라미터 중 하나. 데이터 포인트 주변의 로컬 이웃 수와 관련. (5 ~ 50 사이 값 권장)\n",
    "        learning_rate='auto',# 최적화 과정에서의 학습률. 'auto' (scikit-learn 1.2 이상) 또는 10 ~ 1000 사이 값.\n",
    "                            # 이전 버전에서는 learning_rate=200.0 이 기본값이었음.\n",
    "        n_iter=1000,         # 최적화를 위한 반복 횟수 (최소 250, 보통 1000 이상 권장)\n",
    "        init='pca',          # 초기 임베딩 방법 ('random' 또는 'pca'). 'pca'가 더 안정적이고 좋은 결과를 주는 경향이 있음.\n",
    "        random_state=42      # 결과 재현을 위한 시드 값\n",
    "    )\n",
    "\n",
    "    # t-SNE 적용 (원본 X 또는 X_scaled 사용)\n",
    "    tsne_results = tsne_model.fit_transform(X_scaled) # 또는 X_scaled\n",
    "\n",
    "    # 2D 시각화\n",
    "    plt.figure(figsize=(10, 7))\n",
    "    scatter = plt.scatter(tsne_results[:, 0], tsne_results[:, 1], c=merged[\"cluster\"], cmap='viridis', alpha=0.7)\n",
    "\n",
    "\n",
    "    plt.title('t-SNE visualization of data')\n",
    "    plt.xlabel('t-SNE Component 1')\n",
    "    plt.ylabel('t-SNE Component 2')\n",
    "    plt.grid(True)\n",
    "    plt.show()"
   ]
  },
  {
   "cell_type": "code",
   "execution_count": 133,
   "id": "b7e763eb",
   "metadata": {},
   "outputs": [
    {
     "ename": "ImportError",
     "evalue": "Missing optional dependency 'Jinja2'. DataFrame.style requires jinja2. Use pip or conda to install Jinja2.",
     "output_type": "error",
     "traceback": [
      "\u001b[31m---------------------------------------------------------------------------\u001b[39m",
      "\u001b[31mModuleNotFoundError\u001b[39m                       Traceback (most recent call last)",
      "\u001b[36mFile \u001b[39m\u001b[32mc:\\Users\\kkang\\AppData\\Local\\Programs\\Python\\Python313\\Lib\\site-packages\\pandas\\compat\\_optional.py:135\u001b[39m, in \u001b[36mimport_optional_dependency\u001b[39m\u001b[34m(name, extra, errors, min_version)\u001b[39m\n\u001b[32m    134\u001b[39m \u001b[38;5;28;01mtry\u001b[39;00m:\n\u001b[32m--> \u001b[39m\u001b[32m135\u001b[39m     module = \u001b[43mimportlib\u001b[49m\u001b[43m.\u001b[49m\u001b[43mimport_module\u001b[49m\u001b[43m(\u001b[49m\u001b[43mname\u001b[49m\u001b[43m)\u001b[49m\n\u001b[32m    136\u001b[39m \u001b[38;5;28;01mexcept\u001b[39;00m \u001b[38;5;167;01mImportError\u001b[39;00m:\n",
      "\u001b[36mFile \u001b[39m\u001b[32mc:\\Users\\kkang\\AppData\\Local\\Programs\\Python\\Python313\\Lib\\importlib\\__init__.py:88\u001b[39m, in \u001b[36mimport_module\u001b[39m\u001b[34m(name, package)\u001b[39m\n\u001b[32m     87\u001b[39m         level += \u001b[32m1\u001b[39m\n\u001b[32m---> \u001b[39m\u001b[32m88\u001b[39m \u001b[38;5;28;01mreturn\u001b[39;00m \u001b[43m_bootstrap\u001b[49m\u001b[43m.\u001b[49m\u001b[43m_gcd_import\u001b[49m\u001b[43m(\u001b[49m\u001b[43mname\u001b[49m\u001b[43m[\u001b[49m\u001b[43mlevel\u001b[49m\u001b[43m:\u001b[49m\u001b[43m]\u001b[49m\u001b[43m,\u001b[49m\u001b[43m \u001b[49m\u001b[43mpackage\u001b[49m\u001b[43m,\u001b[49m\u001b[43m \u001b[49m\u001b[43mlevel\u001b[49m\u001b[43m)\u001b[49m\n",
      "\u001b[36mFile \u001b[39m\u001b[32m<frozen importlib._bootstrap>:1387\u001b[39m, in \u001b[36m_gcd_import\u001b[39m\u001b[34m(name, package, level)\u001b[39m\n",
      "\u001b[36mFile \u001b[39m\u001b[32m<frozen importlib._bootstrap>:1360\u001b[39m, in \u001b[36m_find_and_load\u001b[39m\u001b[34m(name, import_)\u001b[39m\n",
      "\u001b[36mFile \u001b[39m\u001b[32m<frozen importlib._bootstrap>:1324\u001b[39m, in \u001b[36m_find_and_load_unlocked\u001b[39m\u001b[34m(name, import_)\u001b[39m\n",
      "\u001b[31mModuleNotFoundError\u001b[39m: No module named 'jinja2'",
      "\nDuring handling of the above exception, another exception occurred:\n",
      "\u001b[31mImportError\u001b[39m                               Traceback (most recent call last)",
      "\u001b[36mCell\u001b[39m\u001b[36m \u001b[39m\u001b[32mIn[133]\u001b[39m\u001b[32m, line 4\u001b[39m\n\u001b[32m      1\u001b[39m \u001b[38;5;66;03m#PC 평균\u001b[39;00m\n\u001b[32m      2\u001b[39m display(\n\u001b[32m      3\u001b[39m     \u001b[43mmean_matrix\u001b[49m\u001b[43m.\u001b[49m\u001b[43mround\u001b[49m\u001b[43m(\u001b[49m\u001b[32;43m2\u001b[39;49m\u001b[43m)\u001b[49m\n\u001b[32m----> \u001b[39m\u001b[32m4\u001b[39m \u001b[43m               \u001b[49m\u001b[43m.\u001b[49m\u001b[43mstyle\u001b[49m.background_gradient(cmap=\u001b[33m\"\u001b[39m\u001b[33mBlues\u001b[39m\u001b[33m\"\u001b[39m, axis=\u001b[38;5;28;01mNone\u001b[39;00m)\n\u001b[32m      5\u001b[39m                .set_caption(\u001b[33m\"\u001b[39m\u001b[33m클러스터별 주성분 평균\u001b[39m\u001b[33m\"\u001b[39m)\n\u001b[32m      6\u001b[39m )\n\u001b[32m      7\u001b[39m \u001b[38;5;66;03m#원본 변수 — 변별력 상위 8개\u001b[39;00m\n\u001b[32m      8\u001b[39m cluster_avg = merged.groupby(\u001b[33m\"\u001b[39m\u001b[33mcluster\u001b[39m\u001b[33m\"\u001b[39m)[feature_cols].mean()\n",
      "\u001b[36mFile \u001b[39m\u001b[32mc:\\Users\\kkang\\AppData\\Local\\Programs\\Python\\Python313\\Lib\\site-packages\\pandas\\core\\frame.py:1442\u001b[39m, in \u001b[36mDataFrame.style\u001b[39m\u001b[34m(self)\u001b[39m\n\u001b[32m   1422\u001b[39m \u001b[38;5;129m@property\u001b[39m\n\u001b[32m   1423\u001b[39m \u001b[38;5;28;01mdef\u001b[39;00m\u001b[38;5;250m \u001b[39m\u001b[34mstyle\u001b[39m(\u001b[38;5;28mself\u001b[39m) -> Styler:\n\u001b[32m   1424\u001b[39m \u001b[38;5;250m    \u001b[39m\u001b[33;03m\"\"\"\u001b[39;00m\n\u001b[32m   1425\u001b[39m \u001b[33;03m    Returns a Styler object.\u001b[39;00m\n\u001b[32m   1426\u001b[39m \n\u001b[32m   (...)\u001b[39m\u001b[32m   1440\u001b[39m \u001b[33;03m    `Table Visualization <../../user_guide/style.ipynb>`_ for more examples.\u001b[39;00m\n\u001b[32m   1441\u001b[39m \u001b[33;03m    \"\"\"\u001b[39;00m\n\u001b[32m-> \u001b[39m\u001b[32m1442\u001b[39m     \u001b[38;5;28;01mfrom\u001b[39;00m\u001b[38;5;250m \u001b[39m\u001b[34;01mpandas\u001b[39;00m\u001b[34;01m.\u001b[39;00m\u001b[34;01mio\u001b[39;00m\u001b[34;01m.\u001b[39;00m\u001b[34;01mformats\u001b[39;00m\u001b[34;01m.\u001b[39;00m\u001b[34;01mstyle\u001b[39;00m\u001b[38;5;250m \u001b[39m\u001b[38;5;28;01mimport\u001b[39;00m Styler\n\u001b[32m   1444\u001b[39m     \u001b[38;5;28;01mreturn\u001b[39;00m Styler(\u001b[38;5;28mself\u001b[39m)\n",
      "\u001b[36mFile \u001b[39m\u001b[32mc:\\Users\\kkang\\AppData\\Local\\Programs\\Python\\Python313\\Lib\\site-packages\\pandas\\io\\formats\\style.py:44\u001b[39m\n\u001b[32m     40\u001b[39m \u001b[38;5;28;01mfrom\u001b[39;00m\u001b[38;5;250m \u001b[39m\u001b[34;01mpandas\u001b[39;00m\u001b[34;01m.\u001b[39;00m\u001b[34;01mcore\u001b[39;00m\u001b[34;01m.\u001b[39;00m\u001b[34;01mshared_docs\u001b[39;00m\u001b[38;5;250m \u001b[39m\u001b[38;5;28;01mimport\u001b[39;00m _shared_docs\n\u001b[32m     42\u001b[39m \u001b[38;5;28;01mfrom\u001b[39;00m\u001b[38;5;250m \u001b[39m\u001b[34;01mpandas\u001b[39;00m\u001b[34;01m.\u001b[39;00m\u001b[34;01mio\u001b[39;00m\u001b[34;01m.\u001b[39;00m\u001b[34;01mformats\u001b[39;00m\u001b[34;01m.\u001b[39;00m\u001b[34;01mformat\u001b[39;00m\u001b[38;5;250m \u001b[39m\u001b[38;5;28;01mimport\u001b[39;00m save_to_buffer\n\u001b[32m---> \u001b[39m\u001b[32m44\u001b[39m jinja2 = \u001b[43mimport_optional_dependency\u001b[49m\u001b[43m(\u001b[49m\u001b[33;43m\"\u001b[39;49m\u001b[33;43mjinja2\u001b[39;49m\u001b[33;43m\"\u001b[39;49m\u001b[43m,\u001b[49m\u001b[43m \u001b[49m\u001b[43mextra\u001b[49m\u001b[43m=\u001b[49m\u001b[33;43m\"\u001b[39;49m\u001b[33;43mDataFrame.style requires jinja2.\u001b[39;49m\u001b[33;43m\"\u001b[39;49m\u001b[43m)\u001b[49m\n\u001b[32m     46\u001b[39m \u001b[38;5;28;01mfrom\u001b[39;00m\u001b[38;5;250m \u001b[39m\u001b[34;01mpandas\u001b[39;00m\u001b[34;01m.\u001b[39;00m\u001b[34;01mio\u001b[39;00m\u001b[34;01m.\u001b[39;00m\u001b[34;01mformats\u001b[39;00m\u001b[34;01m.\u001b[39;00m\u001b[34;01mstyle_render\u001b[39;00m\u001b[38;5;250m \u001b[39m\u001b[38;5;28;01mimport\u001b[39;00m (\n\u001b[32m     47\u001b[39m     CSSProperties,\n\u001b[32m     48\u001b[39m     CSSStyles,\n\u001b[32m   (...)\u001b[39m\u001b[32m     56\u001b[39m     refactor_levels,\n\u001b[32m     57\u001b[39m )\n\u001b[32m     59\u001b[39m \u001b[38;5;28;01mif\u001b[39;00m TYPE_CHECKING:\n",
      "\u001b[36mFile \u001b[39m\u001b[32mc:\\Users\\kkang\\AppData\\Local\\Programs\\Python\\Python313\\Lib\\site-packages\\pandas\\compat\\_optional.py:138\u001b[39m, in \u001b[36mimport_optional_dependency\u001b[39m\u001b[34m(name, extra, errors, min_version)\u001b[39m\n\u001b[32m    136\u001b[39m \u001b[38;5;28;01mexcept\u001b[39;00m \u001b[38;5;167;01mImportError\u001b[39;00m:\n\u001b[32m    137\u001b[39m     \u001b[38;5;28;01mif\u001b[39;00m errors == \u001b[33m\"\u001b[39m\u001b[33mraise\u001b[39m\u001b[33m\"\u001b[39m:\n\u001b[32m--> \u001b[39m\u001b[32m138\u001b[39m         \u001b[38;5;28;01mraise\u001b[39;00m \u001b[38;5;167;01mImportError\u001b[39;00m(msg)\n\u001b[32m    139\u001b[39m     \u001b[38;5;28;01mreturn\u001b[39;00m \u001b[38;5;28;01mNone\u001b[39;00m\n\u001b[32m    141\u001b[39m \u001b[38;5;66;03m# Handle submodules: if we have submodule, grab parent module from sys.modules\u001b[39;00m\n",
      "\u001b[31mImportError\u001b[39m: Missing optional dependency 'Jinja2'. DataFrame.style requires jinja2. Use pip or conda to install Jinja2."
     ]
    }
   ],
   "source": [
    "#PC 평균\n",
    "display(\n",
    "    mean_matrix.round(2)\n",
    "               .style.background_gradient(cmap=\"Blues\", axis=None)\n",
    "               .set_caption(\"클러스터별 주성분 평균\")\n",
    ")\n",
    "#원본 변수 — 변별력 상위 8개\n",
    "cluster_avg = merged.groupby(\"cluster\")[feature_cols].mean()\n",
    "top_vars = cluster_avg.var().sort_values(ascending=False).head(8).index\n",
    "\n",
    "display(\n",
    "    cluster_avg[top_vars].T.round(1)\n",
    "               .style.background_gradient(cmap=\"YlOrRd\", axis=1)\n",
    "               .set_caption(\"클러스터별 평균 — 변별력 상위 8개 변수\")\n",
    ")"
   ]
  },
  {
   "cell_type": "code",
   "execution_count": null,
   "id": "350b1e1a",
   "metadata": {},
   "outputs": [],
   "source": []
  }
 ],
 "metadata": {
  "kernelspec": {
   "display_name": "Python 3",
   "language": "python",
   "name": "python3"
  },
  "language_info": {
   "codemirror_mode": {
    "name": "ipython",
    "version": 3
   },
   "file_extension": ".py",
   "mimetype": "text/x-python",
   "name": "python",
   "nbconvert_exporter": "python",
   "pygments_lexer": "ipython3",
   "version": "3.13.3"
  }
 },
 "nbformat": 4,
 "nbformat_minor": 5
}
